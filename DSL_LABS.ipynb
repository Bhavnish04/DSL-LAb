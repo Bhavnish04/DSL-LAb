{
  "nbformat": 4,
  "nbformat_minor": 0,
  "metadata": {
    "colab": {
      "name": "DSL LABS.ipynb",
      "provenance": [],
      "authorship_tag": "ABX9TyP8z7p09f/3r8GEAgtEqPnu",
      "include_colab_link": true
    },
    "kernelspec": {
      "name": "python3",
      "display_name": "Python 3"
    },
    "language_info": {
      "name": "python"
    }
  },
  "cells": [
    {
      "cell_type": "markdown",
      "metadata": {
        "id": "view-in-github",
        "colab_type": "text"
      },
      "source": [
        "<a href=\"https://colab.research.google.com/github/Bhavnish04/DSL-LAb/blob/main/DSL_LABS.ipynb\" target=\"_parent\"><img src=\"https://colab.research.google.com/assets/colab-badge.svg\" alt=\"Open In Colab\"/></a>"
      ]
    },
    {
      "cell_type": "markdown",
      "metadata": {
        "id": "44i3KKFf0y2G"
      },
      "source": [
        ""
      ]
    },
    {
      "cell_type": "markdown",
      "metadata": {
        "id": "b-Jqi31V08dN"
      },
      "source": [
        "**LAB1**"
      ]
    },
    {
      "cell_type": "code",
      "metadata": {
        "id": "e-E5zoCX1E-i"
      },
      "source": [
        "marks=input(\"input a list of marks\").split()\n",
        "for n in range (len (marks)):\n",
        "    marks[n] = int(marks[n])\n",
        "print(marks)\n",
        "total_marks=0\n",
        "for i in marks:\n",
        "    total_marks += i\n",
        "print(total_marks)\n",
        "\n",
        "total_students=0\n",
        "for students in marks:\n",
        "   total_students += 1\n",
        "print (total_students)\n",
        "\n",
        "average = str(total_marks / total_students)\n",
        "\n",
        "print(\"the average marks are \" + average)\n",
        "\n",
        "max=marks[0]\n",
        "for i in range(len(marks)):\n",
        "  if marks[i]>max :\n",
        "    max=marks[i]\n",
        "print(f\"maximum marks are {max}\")\n",
        "\n",
        "min =marks[0]\n",
        "for n in range(len(marks)):\n",
        "  if marks[i]<min :\n",
        "      min=marks[i]\n",
        "print(f\"minimum marks are {min}\") \n",
        "\n",
        "#max. frequency\n",
        "p= 0\n",
        "max= 0\n",
        "for j in marks:\n",
        "  if marks.index(j)==p:\n",
        "    if marks.count(j)>max:\n",
        "      max= marks.count(j)\n",
        "\n",
        "  i=i+1\n",
        "print(f\"maximum frequency : {max} \")\n",
        "        \n",
        "#absent students\n",
        "min=marks[0]\n",
        "absent=0\n",
        "for n in range (len(marks)):\n",
        "  if marks[n]== -1:\n",
        "    absent=absent+1\n",
        "  if marks[n]<min :\n",
        "    min=marks[n]\n",
        "print(f\"minimum marks are ={min}\")\n",
        "print(f\"no. of absent stud : {absent}\")\n",
        "\n",
        "\n",
        "\n",
        "\n",
        "\n"
      ],
      "execution_count": null,
      "outputs": []
    },
    {
      "cell_type": "markdown",
      "metadata": {
        "id": "Wr1Lig2Y1Qtu"
      },
      "source": [
        "**LAB 2**"
      ]
    },
    {
      "cell_type": "code",
      "metadata": {
        "colab": {
          "base_uri": "https://localhost:8080/"
        },
        "id": "b4tmzM_G1TTp",
        "outputId": "276abe09-d2ff-4ada-9b5b-4a37ea192c73"
      },
      "source": [
        "groupA = []\n",
        "groupB = []\n",
        "groupC = []\n",
        "\n",
        "\n",
        "def cricket():\n",
        "  n =  int(input(\"enter the totalnumber of students for cricket:\"))\n",
        "  for i in range(n):\n",
        "    x= input(\"enter students roll number:\")\n",
        "    groupA.append(x)\n",
        "  print(groupA)\n",
        "\n",
        "def badminton():\n",
        "  n =  int(input(\"enter the totalnumber of students for badminton:\"))\n",
        "  for i in range(n):\n",
        "    x= input(\"enter students roll number:\")\n",
        "    groupB.append(x)\n",
        "  print(groupB)\n",
        "\n",
        "def football():\n",
        "  n =  int(input(\"enter the totalnumber of students for football:\"))\n",
        "  for i in range(n):\n",
        "    x= input(\"enter students roll number:\")\n",
        "    groupC.append(x)\n",
        "  print(groupC)\n",
        "\n",
        "cricket()\n",
        "badminton()\n",
        "football()\n",
        "\n",
        "def intersection(groupA,groupB):\n",
        "    groupR=[]\n",
        "    for i in groupA:\n",
        "        if i in groupB:\n",
        "            groupR.append(i)\n",
        "    return groupR\n",
        "\n",
        "#print(f\"intersection{intersection(groupA,groupB)}\")\n",
        "\n",
        "def diff(groupA,groupB):\n",
        "  groupQ=[]\n",
        "  for i in groupA:\n",
        "    if i not in groupB:\n",
        "      groupQ.append(i)\n",
        "  return groupQ\n",
        "\n",
        "#print(f\"difference{diff(groupA,groupB)}\")\n",
        "\n",
        "def union(groupA,groupB):\n",
        "    groupT=groupA.copy()\n",
        "    for i in groupB:\n",
        "        if i not in groupT:\n",
        "            groupT.append(i)\n",
        "    return groupT\n",
        "\n",
        "#print(f\"union{union(groupA,groupB)}\")\n",
        "\n",
        "def symmetric(groupA,groupB):\n",
        "    groupS=[]\n",
        "    D1=diff(groupA,groupB)\n",
        "    print(\"Difference between Cricket and Badminton is : \", D1)\n",
        "    D2=diff(groupB,groupA)\n",
        "    print(\"Difference between Badminton and Cricket is : \", D2)\n",
        "    groupS=union(D1,D2)\n",
        "    return groupS\n",
        "\n",
        "#print(f\"difference{symmetric(groupA,groupB)}\")\n",
        "\n",
        "\n",
        "def Cri_Bad(groupA,groupB):\n",
        "    groupV=intersection(groupA,groupB)\n",
        "    print(\"List of students who play both cricket and badminton is : \", groupV)\n",
        "    return len(groupV)\n",
        "\n",
        "def cri_or_bad(groupA,groupB):\n",
        "    groupN=symmetric(groupA,groupB)\n",
        "    print(\"List of students who play either cricket or badminton but not both is : \",groupN)\n",
        "    return len(groupN)\n",
        "\n",
        "def Cri_nor_Bad(groupA,groupB,groupC):\n",
        "    groupX = diff(groupA,union(groupB,groupC))\n",
        "    print(\"List of students who play neither cricket nor badminton is : \",groupX)\n",
        "    return len(groupX)\n",
        "\n",
        "def Cri_and_Foot_not_Bad(groupA,groupB,groupC):\n",
        "    groupZ=diff(intersection(groupA,groupB),groupC)\n",
        "    print(\"List of students who play cricket and football but not badminton is : \",groupZ)\n",
        "    return len(groupZ)\n",
        "\n",
        "def main():  \n",
        "  print(\"1. List of students who play both cricket and badminton\")\n",
        "  print(\"2. List of students who play either cricket or badminton but not both\")\n",
        "  print(\"3. List of students who play neither cricket nor badminton\")\n",
        "  print(\"4. Number of students who play cricket and football but not badminton\")\n",
        "  print(\"5. Exit\\n\")\n",
        "  \n",
        "  while input(\"do you want to continue enter Y to continue:\") ==\"Y\":\n",
        "    ch=int(input(\"Enter your Choice :\"))\n",
        "    if ch==1:\n",
        "      Cri_Bad(groupA,groupB)\n",
        "    if ch==2:\n",
        "      cri_or_bad(groupA,groupB)\n",
        "    if ch==3:\n",
        "      Cri_nor_Bad(groupA,groupB,groupC)\n",
        "    if ch==4:\n",
        "      Cri_and_Foot_not_Bad(groupA,groupB,groupC)\n",
        "    if ch==5:\n",
        "      break\n",
        "\n",
        "\n",
        "main()\n",
        "\n"
      ],
      "execution_count": null,
      "outputs": [
        {
          "name": "stdout",
          "output_type": "stream",
          "text": [
            "enter the totalnumber of students for cricket:1\n",
            "enter students roll number:5\n",
            "['5']\n",
            "enter the totalnumber of students for badminton:1\n",
            "enter students roll number:4\n",
            "['4']\n",
            "enter the totalnumber of students for football:2\n",
            "enter students roll number:5\n",
            "enter students roll number:8\n",
            "['5', '8']\n",
            "1. List of students who play both cricket and badminton\n",
            "2. List of students who play either cricket or badminton but not both\n",
            "3. List of students who play neither cricket nor badminton\n",
            "4. Number of students who play cricket and football but not badminton\n",
            "5. Exit\n",
            "\n",
            "do you want to continue enter Y to continue:y\n"
          ]
        }
      ]
    },
    {
      "cell_type": "code",
      "metadata": {
        "id": "Tp5IkmTyuhb3"
      },
      "source": [
        ""
      ],
      "execution_count": null,
      "outputs": []
    },
    {
      "cell_type": "markdown",
      "metadata": {
        "id": "QjhLBQ0FuisV"
      },
      "source": [
        "# **matrix**"
      ]
    },
    {
      "cell_type": "code",
      "metadata": {
        "id": "Krzhm-m0tDCB"
      },
      "source": [
        "  row=int(input(\"enter no. of rows:\"))\n",
        "  col=int(input(\"enter no. of col:\"))\n",
        "  matrix=[]\n",
        "  #matrix function\n",
        "  def cmatrix():\n",
        "    for i in range(row):\n",
        "      a=[]\n",
        "      for j in range(col):\n",
        "        b=int(input())\n",
        "        a.append(b)\n",
        "      matrix.append(a)\n",
        "\n",
        "    for i in range(row):\n",
        "      for j in range(col):\n",
        "        print(matrix[i][j],end=' ')\n",
        "      print()\n",
        "    return matrix\n",
        "\n",
        "  m=cmatrix()\n",
        "  print(m)\n",
        "\n",
        "  matrix=[]\n",
        "  x=cmatrix()\n",
        "  print(x)\n",
        "  # #add\n",
        "  # y=[]\n",
        "  # for i in range(row):\n",
        "  #   z=[]\n",
        "  #   for j in range(col):\n",
        "  #     c=m[i][j]+x[i][j]\n",
        "  #     z.append(c)\n",
        "  #   y.append(z)\n",
        "\n",
        "  for i in range(row):\n",
        "      for j in range(col):\n",
        "        print(y[i][j],end=' ')\n",
        "      print()\n",
        "  #multiply  \n",
        "  p=[] #put all values \"0\" \n",
        "  for i in range(row):\n",
        "      C=[]\n",
        "      for j in range(n):\n",
        "        C.append(0) \n",
        "      p.append(C) \n",
        "\n",
        "  for i in range(len(m)):\n",
        "    for j in range(len(x[0])):\n",
        "      for k in range(len(x)):\n",
        "        p[i][j]=p[i][j]+m[i][k]*x[k][j]\n",
        "\n",
        "  print(p)\n",
        "\n"
      ],
      "execution_count": null,
      "outputs": []
    },
    {
      "cell_type": "markdown",
      "metadata": {
        "id": "-rjyHQRDnsLa"
      },
      "source": [
        "# ***Transacton question***"
      ]
    },
    {
      "cell_type": "code",
      "metadata": {
        "id": "0WBgF5VFnpwO"
      },
      "source": [
        "bal=0\n",
        "n=100\n",
        "for i in range(n):\n",
        "  x=input(\"Enter operation and value in same line \")\n",
        "  y=[]\n",
        "  y=x.split()\n",
        "  operation=y[0]\n",
        "  temp=y[1]\n",
        "  value=int(temp)\n",
        "  if (operation=='d'):\n",
        "    bal=bal+value\n",
        "  elif (operation=='w'):\n",
        "    if(bal>value):\n",
        "      bal=bal-value\n",
        "  else:\n",
        "    print(\"Insufficient balance\")\n",
        "  z=input(\"Do you want to continue with next transaction \")\n",
        "  if (z=='yes' or z== 'y'):\n",
        "    pass\n",
        "  elif(z=='no' or z=='n'):\n",
        "    break\n",
        "print(f\"Balance is {bal}\")"
      ],
      "execution_count": null,
      "outputs": []
    },
    {
      "cell_type": "markdown",
      "metadata": {
        "id": "m5juEyj4K69K"
      },
      "source": [
        "# ***STRING***"
      ]
    },
    {
      "cell_type": "code",
      "metadata": {
        "id": "CwBNduNPgYch"
      },
      "source": [
        "a=input(\"first and last name of the student:\")\n",
        "#To display name with the longest length\n",
        "c=[]\n",
        "c=a.split()\n",
        "x=0\n",
        "for i in range(len(c)):\n",
        "  if x<len(c[i]):\n",
        "    x=len(c[i])\n",
        "    y=c[i]\n",
        "print(f\"{x} for {y}\")\n",
        "\n",
        "#To determines the frequency of occurrence of particular character in the string\n",
        "b=input('enter the character:')\n",
        "count=0\n",
        "for i in a:\n",
        "  if i==b:\n",
        "    count=count+1\n",
        "\n",
        "    \n",
        "print(count)\n",
        "\n",
        "#To check given string is palindrome or not\n",
        "q=a\n",
        "p=input(\"another string\")\n",
        "r=\" \"\n",
        "for i in range(len(p)-1,-1,-1):\n",
        "  r=r+p[i]\n",
        "if(q==p):\n",
        "  print(\"the string is palindrome=\")\n",
        "else: \n",
        "  print(\"it is not a palingdrone=\")\n",
        "\n",
        "\n",
        "\n",
        "#To display index of first substring\n",
        "z=input(\"enter the substring\")\n",
        "e=0\n",
        "for i in range(len(a)-1):  # \"a\" is from top line\n",
        "  if (a[i]==z[e]):\n",
        "    e=e+1\n",
        "    if(e==len(z)):\n",
        "      break\n",
        "  if len(z)==0:\n",
        "    break\n",
        "\n",
        "if(e<len(z)):\n",
        "    print(\"not present\")\n",
        "else:\n",
        "   k=i-e+1\n",
        "   print(f'{z} is present at position {k}')\n",
        "\n",
        "\n",
        "#To count the occurrences of each word in string\n",
        "g=input(\" enter the word\")\n",
        "count=0\n",
        "for i in c:\n",
        "  if i==g:\n",
        "    count=count+1\n",
        "print(count)"
      ],
      "execution_count": null,
      "outputs": []
    },
    {
      "cell_type": "markdown",
      "metadata": {
        "id": "a6RcSBCDnqG1"
      },
      "source": [
        "# **sparse matrix**"
      ]
    },
    {
      "cell_type": "code",
      "metadata": {
        "id": "etqUCUmvaK1U"
      },
      "source": [
        "row=int(input(\"enter no. of rows:\"))\n",
        "col=int(input(\"enter no. of col:\"))\n",
        "matrix=[]\n",
        "#matrix function\n",
        "def cmatrix():\n",
        "  for i in range(row):\n",
        "    a=[]\n",
        "    for j in range(col):\n",
        "      b=int(input())\n",
        "      a.append(b)\n",
        "    matrix.append(a)\n",
        "\n",
        "  for i in range(row):\n",
        "    for j in range(col):\n",
        "      print(matrix[i][j],end=' ')\n",
        "    print()\n",
        "  return matrix\n",
        "\n",
        "m=cmatrix()\n",
        "print(m)\n",
        "\n",
        "\n",
        "for i in range(row):\n",
        "  for j in range(col):\n",
        "    if m[i][j]==0:\n",
        "      continue\n",
        "    else :\n",
        "      print(i,'\\t',j,'\\t', m[i][j])\n",
        "\n",
        "matrix=[]\n",
        "x=cmatrix()\n",
        "print(x)\n",
        "\n",
        "\n",
        "for i in range(row):\n",
        "  for j in range(col):\n",
        "    if x[i][j]==0:\n",
        "      continue\n",
        "    else :\n",
        "      print(i,'\\t',j,'\\t', x[i][j])\n",
        "\n",
        "for i in range(row):\n",
        "  for j in range(col):\n",
        "    if m[i][j]!=0 and x[i][j]!=0:\n",
        "      print(i,'\\t',j,'\\t',m[i][j]+x[i][j])\n",
        "\n"
      ],
      "execution_count": null,
      "outputs": []
    },
    {
      "cell_type": "markdown",
      "metadata": {
        "id": "AJj-iAb6xVpz"
      },
      "source": [
        "# ***MOCK PRACTICAL***"
      ]
    },
    {
      "cell_type": "code",
      "metadata": {
        "id": "60lLSWaJxq8l"
      },
      "source": [
        "a=input(\"first and last name of the student:\")\n",
        "#To display name with the longest length\n",
        "c=[]\n",
        "c=a.split()\n",
        "x=0\n",
        "for i in range(len(c)):\n",
        "  if x<len(c[i]):\n",
        "    x=len(c[i])\n",
        "    y=c[i]\n",
        "print(f\"{x} for {y}\")\n",
        "\n",
        "#To determines the frequency of occurrence of particular character in the string\n",
        "b=input('enter the character:')\n",
        "count=0\n",
        "for i in a:\n",
        "  if i==b:\n",
        "    count=count+1\n",
        "\n",
        "    \n",
        "print(count)\n",
        "\n",
        "#To check given string is palindrome or not\n",
        "q=a\n",
        "p=input(\"another string\")\n",
        "r=\" \"\n",
        "for i in range(len(p)-1,-1,-1):\n",
        "  r=r+p[i]\n",
        "if(q==p):\n",
        "  print(\"the string is palindrome=\")\n",
        "else: \n",
        "  print(\"it is not a palingdrone=\")\n",
        "\n",
        "\n",
        "\n",
        "#To display index of first substring\n",
        "z=input(\"enter the substring\")\n",
        "e=0\n",
        "for i in range(len(a)-1):  # \"a\" is from top line\n",
        "  if (a[i]==z[e]):\n",
        "    e=e+1\n",
        "    if(e==len(z)):\n",
        "      break\n",
        "  if len(z)==0:\n",
        "    break\n",
        "\n",
        "if(e<len(z)):\n",
        "    print(\"not present\")\n",
        "else:\n",
        "   k=i-e+1\n",
        "   print(f'{z} is present at position {k}')\n",
        "\n",
        "\n",
        "#To count the occurrences of each word in string\n",
        "g=input(\" enter the word\")\n",
        "count=0\n",
        "for i in c:\n",
        "  if i==g:\n",
        "    count=count+1\n",
        "print(count)\n",
        "\n",
        "\n",
        "\n",
        "\n"
      ],
      "execution_count": null,
      "outputs": []
    },
    {
      "cell_type": "markdown",
      "metadata": {
        "id": "_slwnJYmIkEu"
      },
      "source": [
        "# ***LINEAR SeARcH***"
      ]
    },
    {
      "cell_type": "code",
      "metadata": {
        "id": "l2EqnxPqIihS"
      },
      "source": [
        "#linear search\n",
        "a=[]\n",
        "noofstud=int(input(\"Enter the number of students \"))\n",
        "for i in range(0,noofstud):\n",
        "  a.append(int(input(\"Enter the roll numbers \")))\n",
        "print(a)\n",
        "lsearch=int(input(\"Enter the roll number to be searched \"))\n",
        "count=0\n",
        "for i in range(noofstud):\n",
        "  if(a[i]==lsearch):\n",
        "    count=1\n",
        "    break\n",
        "  else:\n",
        "    count=0\n",
        "if(count==1):\n",
        "  print(f\"Roll number found at position {i}\")\n",
        "else:\n",
        "  print(\"Not found\")"
      ],
      "execution_count": null,
      "outputs": []
    },
    {
      "cell_type": "markdown",
      "metadata": {
        "id": "H6Rv6Wu1ItbQ"
      },
      "source": [
        "# ***sentinal search***"
      ]
    },
    {
      "cell_type": "code",
      "metadata": {
        "id": "s1BQZ8yuIxZx"
      },
      "source": [
        "#sentinel search\n",
        "b=[]\n",
        "noofstud=int(input(\"Enter the number of students \"))\n",
        "for i in range(0,noofstud):\n",
        "  b.append(int(input(\"Enter the roll numbers \")))\n",
        "print(b)\n",
        "ssearch=int(input(\"Enter the roll number to be searched \"))\n",
        "if (ssearch==b[noofstud-1]):\n",
        "  print(f\"found at position {noofstud-1}\")\n",
        "else:\n",
        "  b[noofstud-1]=ssearch\n",
        "  print(b)\n",
        "  for i in range(0,len(b)-2):\n",
        "    if(i==b[noofstud-1]):\n",
        "      print(f\"Found at position {i}\")"
      ],
      "execution_count": null,
      "outputs": []
    },
    {
      "cell_type": "markdown",
      "metadata": {
        "id": "qIa8FZilIzFl"
      },
      "source": [
        "# ***BINARY SEARCH***"
      ]
    },
    {
      "cell_type": "code",
      "metadata": {
        "id": "wbSztjQkI7Hz"
      },
      "source": [
        "#Binary search\n",
        "def Binarysearch(c,bsearch):\n",
        "  first=0\n",
        "  last=noofstud-1\n",
        "  mid=0\n",
        "  while first<=last:\n",
        "    middle=((first+(last))//2)\n",
        "    if bsearch not in c:\n",
        "      return -1\n",
        "    elif(c[middle]==bsearch):\n",
        "      return middle\n",
        "    elif(c[middle]<bsearch):\n",
        "      first=middle\n",
        "    elif(c[middle]>bsearch):\n",
        "      last=middle\n",
        "    if bsearch not in c:\n",
        "      return -1\n",
        "c=[]\n",
        "noofstud=int(input(\"Enter the number of students \"))\n",
        "for i in range(0,noofstud):\n",
        "  c.append(int(input(\"Enter the roll numbers in sorted order \")))\n",
        "print(c)\n",
        "bsearch=int(input(\"Enter the roll number to be searched \"))\n",
        "\n",
        "\n",
        "\n",
        "a=Binarysearch(c,bsearch)\n",
        "if a==-1:\n",
        "  print(\"Not found\")\n",
        "else:\n",
        "  print(f\"{bsearch} is present at {a}\")"
      ],
      "execution_count": null,
      "outputs": []
    },
    {
      "cell_type": "markdown",
      "metadata": {
        "id": "vDY63-hUJCic"
      },
      "source": [
        "***Bubble Sort***"
      ]
    },
    {
      "cell_type": "code",
      "metadata": {
        "id": "kim5HGM2I8Xo"
      },
      "source": [
        " BUBBLESORT\n",
        "\n",
        "  l=[]\n",
        "  n=int(input(\"enter the no. of element of list=\"))\n",
        "\n",
        "  for item in range(n):\n",
        "    a=int(input(\" \"))\n",
        "    l.append(a)\n",
        "\n",
        "  print('list is: ', l)\n",
        "\n",
        "  for i in range(len(l)):\n",
        "    for j in range(i+1 ,len(l)):\n",
        "      if (l[i]>l[j]):\n",
        "        temp=l[i]\n",
        "        l[i]=l[j]\n",
        "        l[j]=temp\n",
        "\n",
        "  print(\"sorted list is:\", l)"
      ],
      "execution_count": null,
      "outputs": []
    },
    {
      "cell_type": "markdown",
      "metadata": {
        "id": "wJ9OGvNMJIFx"
      },
      "source": [
        "# *SELECTION SORT*"
      ]
    },
    {
      "cell_type": "code",
      "metadata": {
        "id": "0vbSiTZQJHSj"
      },
      "source": [
        "numofstud1=int(input(\"Enter the number of students \"))\n",
        "perce=[]\n",
        "for i in range(0,numofstud1):\n",
        "  perce.append(int(input(\"Enter the percentages of students \")))\n",
        "print(perce)\n",
        "#selection sort\n",
        "for i in range(numofstud1-1):\n",
        "  min=perce[i]\n",
        "  for j in range(i+1,numofstud1):\n",
        "    if perce[j]<min:\n",
        "      min=perce[j]\n",
        "      perce[i],perce[j]=perce[j],perce[i]\n",
        "\n",
        "print(perce)"
      ],
      "execution_count": null,
      "outputs": []
    },
    {
      "cell_type": "markdown",
      "metadata": {
        "id": "IS5UckJDJXIp"
      },
      "source": [
        "# ***insert sort***"
      ]
    },
    {
      "cell_type": "code",
      "metadata": {
        "id": "4Y0xczuxJS9A"
      },
      "source": [
        "def Insertionsort(perce):\n",
        "    for i in range(1, len(perce)):\n",
        "        temp = perce[i]\n",
        "        j = i - 1\n",
        "        while j > 0 and temp < perce[j]:\n",
        "            perce[j + 1] = perce[j]\n",
        "            j = j - 1\n",
        "        perce[j + 1] = temp\n",
        "\n",
        "numofstud1=int(input(\"Enter the number of students \"))\n",
        "perce=[]\n",
        "for i in range(0,numofstud1):\n",
        "  perce.append(int(input(\"Enter the percentages of students \")))\n",
        "print(perce)\n",
        "Insertionsort(perce)\n",
        "print(perce)"
      ],
      "execution_count": null,
      "outputs": []
    },
    {
      "cell_type": "markdown",
      "metadata": {
        "id": "Jrmg5L-3JjAs"
      },
      "source": [
        "# ***MERGE SORT***"
      ]
    },
    {
      "cell_type": "code",
      "metadata": {
        "id": "2fGTdrzmJasN"
      },
      "source": [
        "#merge sort\n",
        "\n",
        "def merge(arr):\n",
        "  if len(arr)>1:\n",
        "    mid=(len(arr))//2\n",
        "    lower=arr[:mid]\n",
        "    upper=arr[mid:]\n",
        "    print(lower)\n",
        "    print(upper)\n",
        "    merge(lower)\n",
        "    merge(upper)\n",
        "\n",
        "    i,j,k=0,0,0\n",
        "    while i<len(lower) and j<len(upper):\n",
        "      print(lower)\n",
        "      if lower[i]<upper[j]:\n",
        "        arr[k]=lower[i]\n",
        "        i=i+1\n",
        "      else:\n",
        "        arr[k]=upper[j]\n",
        "        j=j+1\n",
        "      k=k+1\n",
        "      \n",
        "    while j<len(upper):\n",
        "      arr[k]=upper[j]\n",
        "      j=j+1\n",
        "      k=k+1\n",
        "      print(arr)\n",
        "      \n",
        "    while i<len(lower):\n",
        "      arr[k]=lower[i]\n",
        "      i=i+1\n",
        "      k=k+1\n",
        "      print(arr)\n",
        "\n",
        "    return arr\n",
        "num=int(input(\"Enter the number of entries \"))\n",
        "arr=[]\n",
        "for i in range(num):\n",
        "  a=int(input(\"Enter the numbers \"))\n",
        "  arr.append(a)\n",
        "newlist=merge(arr)\n",
        "print(newlist)"
      ],
      "execution_count": null,
      "outputs": []
    }
  ]
}