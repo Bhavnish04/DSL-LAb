{
  "nbformat": 4,
  "nbformat_minor": 0,
  "metadata": {
    "colab": {
      "name": "DSL LABS.ipynb",
      "provenance": [],
      "authorship_tag": "ABX9TyPj8oD0Thfvdgz0LU6P1SRw",
      "include_colab_link": true
    },
    "kernelspec": {
      "name": "python3",
      "display_name": "Python 3"
    },
    "language_info": {
      "name": "python"
    }
  },
  "cells": [
    {
      "cell_type": "markdown",
      "metadata": {
        "id": "view-in-github",
        "colab_type": "text"
      },
      "source": [
        "<a href=\"https://colab.research.google.com/github/Bhavnish04/DSL-LAb/blob/main/DSL_LABS.ipynb\" target=\"_parent\"><img src=\"https://colab.research.google.com/assets/colab-badge.svg\" alt=\"Open In Colab\"/></a>"
      ]
    },
    {
      "cell_type": "markdown",
      "metadata": {
        "id": "44i3KKFf0y2G"
      },
      "source": [
        ""
      ]
    },
    {
      "cell_type": "markdown",
      "metadata": {
        "id": "b-Jqi31V08dN"
      },
      "source": [
        "**LAB1**"
      ]
    },
    {
      "cell_type": "code",
      "metadata": {
        "id": "e-E5zoCX1E-i"
      },
      "source": [
        "marks=input(\"input a list of marks\").split()\n",
        "for n in range (len (marks)):\n",
        "    marks[n] = int(marks[n])\n",
        "print(marks)\n",
        "total_marks=0\n",
        "for i in marks:\n",
        "    total_marks += i\n",
        "print(total_marks)\n",
        "\n",
        "total_students=0\n",
        "for students in marks:\n",
        "   total_students += 1\n",
        "print (total_students)\n",
        "\n",
        "average = str(total_marks / total_students)\n",
        "\n",
        "print(\"the average marks are \" + average)\n",
        "\n",
        "max=marks[0]\n",
        "for i in range(len(marks)):\n",
        "  if marks[i]>max :\n",
        "    max=marks[i]\n",
        "print(f\"maximum marks are {max}\")\n",
        "\n",
        "min =marks[0]\n",
        "for n in range(len(marks)):\n",
        "  if marks[i]<min :\n",
        "      min=marks[i]\n",
        "print(f\"minimum marks are {min}\") \n",
        "\n",
        "#max. frequency\n",
        "p= 0\n",
        "max= 0\n",
        "for j in marks:\n",
        "  if marks.index(j)==p:\n",
        "    if marks.count(j)>max:\n",
        "      max= marks.count(j)\n",
        "\n",
        "  i=i+1\n",
        "print(f\"maximum frequency : {max} \")\n",
        "        \n",
        "#absent students\n",
        "min=marks[0]\n",
        "absent=0\n",
        "for n in range (len(marks)):\n",
        "  if marks[n]== -1:\n",
        "    absent=absent+1\n",
        "  if marks[n]<min :\n",
        "    min=marks[n]\n",
        "print(f\"minimum marks are ={min}\")\n",
        "print(f\"no. of absent stud : {absent}\")\n",
        "\n",
        "\n",
        "\n",
        "\n",
        "\n"
      ],
      "execution_count": null,
      "outputs": []
    },
    {
      "cell_type": "markdown",
      "metadata": {
        "id": "Wr1Lig2Y1Qtu"
      },
      "source": [
        "**LAB 2**"
      ]
    },
    {
      "cell_type": "code",
      "metadata": {
        "colab": {
          "base_uri": "https://localhost:8080/"
        },
        "id": "b4tmzM_G1TTp",
        "outputId": "92dfb931-a665-4dec-daea-b75bbc76316d"
      },
      "source": [
        "groupA = []\n",
        "groupB = []\n",
        "groupC = []\n",
        "\n",
        "\n",
        "def cricket():\n",
        "  n =  int(input(\"enter the totalnumber of students for cricket:\"))\n",
        "  for i in range(n):\n",
        "    x= input(\"enter students roll number:\")\n",
        "    groupA.append(x)\n",
        "  print(groupA)\n",
        "\n",
        "def badminton():\n",
        "  n =  int(input(\"enter the totalnumber of students for badminton:\"))\n",
        "  for i in range(n):\n",
        "    x= input(\"enter students roll number:\")\n",
        "    groupB.append(x)\n",
        "  print(groupB)\n",
        "\n",
        "def football():\n",
        "  n =  int(input(\"enter the totalnumber of students for football:\"))\n",
        "  for i in range(n):\n",
        "    x= input(\"enter students roll number:\")\n",
        "    groupC.append(x)\n",
        "  print(groupC)\n",
        "\n",
        "cricket()\n",
        "badminton()\n",
        "football()\n",
        "\n",
        "def intersection(groupA,groupB):\n",
        "    groupR=[]\n",
        "    for i in groupA:\n",
        "        if i in groupB:\n",
        "            groupR.append(i)\n",
        "    return groupR\n",
        "\n",
        "#print(f\"intersection{intersection(groupA,groupB)}\")\n",
        "\n",
        "def diff(groupA,groupB):\n",
        "  groupQ=[]\n",
        "  for i in groupA:\n",
        "    if i not in groupB:\n",
        "      groupQ.append(i)\n",
        "  return groupQ\n",
        "\n",
        "#print(f\"difference{diff(groupA,groupB)}\")\n",
        "\n",
        "def union(groupA,groupB):\n",
        "    groupT=groupA.copy()\n",
        "    for i in groupB:\n",
        "        if i not in groupT:\n",
        "            groupT.append(i)\n",
        "    return groupT\n",
        "\n",
        "#print(f\"union{union(groupA,groupB)}\")\n",
        "\n",
        "def symmetric(groupA,groupB):\n",
        "    groupS=[]\n",
        "    D1=diff(groupA,groupB)\n",
        "    print(\"Difference between Cricket and Badminton is : \", D1)\n",
        "    D2=diff(groupB,groupA)\n",
        "    print(\"Difference between Badminton and Cricket is : \", D2)\n",
        "    groupS=union(D1,D2)\n",
        "    return groupS\n",
        "\n",
        "#print(f\"difference{symmetric(groupA,groupB)}\")\n",
        "\n",
        "\n",
        "def Cri_Bad(groupA,groupB):\n",
        "    groupV=intersection(groupA,groupB)\n",
        "    print(\"List of students who play both cricket and badminton is : \", groupV)\n",
        "    return len(groupV)\n",
        "\n",
        "def cri_or_bad(groupA,groupB):\n",
        "    groupN=symmetric(groupA,groupB)\n",
        "    print(\"List of students who play either cricket or badminton but not both is : \",groupN)\n",
        "    return len(groupN)\n",
        "\n",
        "def Cri_nor_Bad(groupA,groupB,groupC):\n",
        "    groupX = diff(groupA,union(groupB,groupC))\n",
        "    print(\"List of students who play neither cricket nor badminton is : \",groupX)\n",
        "    return len(groupX)\n",
        "\n",
        "def Cri_and_Foot_not_Bad(groupA,groupB,groupC):\n",
        "    groupZ=diff(intersection(groupA,groupB),groupC)\n",
        "    print(\"List of students who play cricket and football but not badminton is : \",groupZ)\n",
        "    return len(groupZ)\n",
        "\n",
        "\n"
      ],
      "execution_count": null,
      "outputs": [
        {
          "output_type": "stream",
          "name": "stdout",
          "text": [
            "enter the totalnumber of students for cricket:2\n",
            "enter students roll number:6\n",
            "enter students roll number:9\n",
            "['6', '9']\n",
            "enter the totalnumber of students for badminton:2\n",
            "enter students roll number:8\n",
            "enter students roll number:4\n",
            "['8', '4']\n",
            "enter the totalnumber of students for football:2\n",
            "enter students roll number:9\n",
            "enter students roll number:7\n",
            "['9', '7']\n"
          ]
        }
      ]
    }
  ]
}