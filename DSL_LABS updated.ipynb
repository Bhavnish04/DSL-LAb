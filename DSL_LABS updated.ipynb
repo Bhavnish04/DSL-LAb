{
  "nbformat": 4,
  "nbformat_minor": 0,
  "metadata": {
    "colab": {
      "name": "DSL LABS.ipynb",
      "provenance": [],
      "authorship_tag": "ABX9TyM1LBk68/6T+Xhz7QDotky4",
      "include_colab_link": true
    },
    "kernelspec": {
      "name": "python3",
      "display_name": "Python 3"
    },
    "language_info": {
      "name": "python"
    }
  },
  "cells": [
    {
      "cell_type": "markdown",
      "metadata": {
        "id": "view-in-github",
        "colab_type": "text"
      },
      "source": [
        "<a href=\"https://colab.research.google.com/github/Bhavnish04/DSL-LAb/blob/main/DSL_LABS%20updated.ipynb\" target=\"_parent\"><img src=\"https://colab.research.google.com/assets/colab-badge.svg\" alt=\"Open In Colab\"/></a>"
      ]
    },
    {
      "cell_type": "markdown",
      "metadata": {
        "id": "44i3KKFf0y2G"
      },
      "source": [
        ""
      ]
    },
    {
      "cell_type": "code",
      "metadata": {
        "id": "ZKj24nIyg7Ee"
      },
      "source": [
        ""
      ],
      "execution_count": null,
      "outputs": []
    },
    {
      "cell_type": "markdown",
      "metadata": {
        "id": "b-Jqi31V08dN"
      },
      "source": [
        "**LAB1**"
      ]
    },
    {
      "cell_type": "code",
      "metadata": {
        "id": "e-E5zoCX1E-i"
      },
      "source": [
        "marks=input(\"input a list of marks\").split()\n",
        "for n in range (len (marks)):\n",
        "    marks[n] = int(marks[n])\n",
        "print(marks)\n",
        "total_marks=0\n",
        "for i in marks:\n",
        "    total_marks += i\n",
        "print(total_marks)\n",
        "\n",
        "total_students=0\n",
        "for students in marks:\n",
        "   total_students += 1\n",
        "print (total_students)\n",
        "\n",
        "average = str(total_marks / total_students)\n",
        "\n",
        "print(\"the average marks are \" + average)\n",
        "\n",
        "max=marks[0]\n",
        "for i in range(len(marks)):\n",
        "  if marks[i]>max :\n",
        "    max=marks[i]\n",
        "print(f\"maximum marks are {max}\")\n",
        "\n",
        "min =marks[0]\n",
        "for n in range(len(marks)):\n",
        "  if marks[i]<min :\n",
        "      min=marks[i]\n",
        "print(f\"minimum marks are {min}\") \n",
        "\n",
        "#max. frequency\n",
        "p= 0\n",
        "max= 0\n",
        "for j in marks:\n",
        "  if marks.index(j)==p:\n",
        "    if marks.count(j)>max:\n",
        "      max= marks.count(j)\n",
        "\n",
        "  i=i+1\n",
        "print(f\"maximum frequency : {max} \")\n",
        "        \n",
        "#absent students\n",
        "min=marks[0]\n",
        "absent=0\n",
        "for n in range (len(marks)):\n",
        "  if marks[n]== -1:\n",
        "    absent=absent+1\n",
        "  if marks[n]<min :\n",
        "    min=marks[n]\n",
        "print(f\"minimum marks are ={min}\")\n",
        "print(f\"no. of absent stud : {absent}\")\n",
        "\n",
        "\n",
        "\n",
        "\n",
        "\n"
      ],
      "execution_count": null,
      "outputs": []
    },
    {
      "cell_type": "markdown",
      "metadata": {
        "id": "Wr1Lig2Y1Qtu"
      },
      "source": [
        "**LAB 2**"
      ]
    },
    {
      "cell_type": "code",
      "metadata": {
        "colab": {
          "base_uri": "https://localhost:8080/"
        },
        "id": "b4tmzM_G1TTp",
        "outputId": "92dfb931-a665-4dec-daea-b75bbc76316d"
      },
      "source": [
        "groupA = []\n",
        "groupB = []\n",
        "groupC = []\n",
        "\n",
        "\n",
        "def cricket():\n",
        "  n =  int(input(\"enter the totalnumber of students for cricket:\"))\n",
        "  for i in range(n):\n",
        "    x= input(\"enter students roll number:\")\n",
        "    groupA.append(x)\n",
        "  print(groupA)\n",
        "\n",
        "def badminton():\n",
        "  n =  int(input(\"enter the totalnumber of students for badminton:\"))\n",
        "  for i in range(n):\n",
        "    x= input(\"enter students roll number:\")\n",
        "    groupB.append(x)\n",
        "  print(groupB)\n",
        "\n",
        "def football():\n",
        "  n =  int(input(\"enter the totalnumber of students for football:\"))\n",
        "  for i in range(n):\n",
        "    x= input(\"enter students roll number:\")\n",
        "    groupC.append(x)\n",
        "  print(groupC)\n",
        "\n",
        "cricket()\n",
        "badminton()\n",
        "football()\n",
        "\n",
        "def intersection(groupA,groupB):\n",
        "    groupR=[]\n",
        "    for i in groupA:\n",
        "        if i in groupB:\n",
        "            groupR.append(i)\n",
        "    return groupR\n",
        "\n",
        "#print(f\"intersection{intersection(groupA,groupB)}\")\n",
        "\n",
        "def diff(groupA,groupB):\n",
        "  groupQ=[]\n",
        "  for i in groupA:\n",
        "    if i not in groupB:\n",
        "      groupQ.append(i)\n",
        "  return groupQ\n",
        "\n",
        "#print(f\"difference{diff(groupA,groupB)}\")\n",
        "\n",
        "def union(groupA,groupB):\n",
        "    groupT=groupA.copy()\n",
        "    for i in groupB:\n",
        "        if i not in groupT:\n",
        "            groupT.append(i)\n",
        "    return groupT\n",
        "\n",
        "#print(f\"union{union(groupA,groupB)}\")\n",
        "\n",
        "def symmetric(groupA,groupB):\n",
        "    groupS=[]\n",
        "    D1=diff(groupA,groupB)\n",
        "    print(\"Difference between Cricket and Badminton is : \", D1)\n",
        "    D2=diff(groupB,groupA)\n",
        "    print(\"Difference between Badminton and Cricket is : \", D2)\n",
        "    groupS=union(D1,D2)\n",
        "    return groupS\n",
        "\n",
        "#print(f\"difference{symmetric(groupA,groupB)}\")\n",
        "\n",
        "\n",
        "def Cri_Bad(groupA,groupB):\n",
        "    groupV=intersection(groupA,groupB)\n",
        "    print(\"List of students who play both cricket and badminton is : \", groupV)\n",
        "    return len(groupV)\n",
        "\n",
        "def cri_or_bad(groupA,groupB):\n",
        "    groupN=symmetric(groupA,groupB)\n",
        "    print(\"List of students who play either cricket or badminton but not both is : \",groupN)\n",
        "    return len(groupN)\n",
        "\n",
        "def Cri_nor_Bad(groupA,groupB,groupC):\n",
        "    groupX = diff(groupA,union(groupB,groupC))\n",
        "    print(\"List of students who play neither cricket nor badminton is : \",groupX)\n",
        "    return len(groupX)\n",
        "\n",
        "def Cri_and_Foot_not_Bad(groupA,groupB,groupC):\n",
        "    groupZ=diff(intersection(groupA,groupB),groupC)\n",
        "    print(\"List of students who play cricket and football but not badminton is : \",groupZ)\n",
        "    return len(groupZ)\n",
        "\n",
        "\n"
      ],
      "execution_count": null,
      "outputs": [
        {
          "output_type": "stream",
          "name": "stdout",
          "text": [
            "enter the totalnumber of students for cricket:2\n",
            "enter students roll number:6\n",
            "enter students roll number:9\n",
            "['6', '9']\n",
            "enter the totalnumber of students for badminton:2\n",
            "enter students roll number:8\n",
            "enter students roll number:4\n",
            "['8', '4']\n",
            "enter the totalnumber of students for football:2\n",
            "enter students roll number:9\n",
            "enter students roll number:7\n",
            "['9', '7']\n"
          ]
        }
      ]
    },
    {
      "cell_type": "markdown",
      "metadata": {
        "id": "oaQDUl-nhKT8"
      },
      "source": [
        "***MATRIX***"
      ]
    },
    {
      "cell_type": "code",
      "metadata": {
        "id": "0kxUtX-fg8Wt"
      },
      "source": [
        "row=int(input(\"enter no. of rows:\"))\n",
        "col=int(input(\"enter no. of col:\"))\n",
        "matrix=[]\n",
        "#matrix function\n",
        "def cmatrix():\n",
        "  for i in range(row):\n",
        "    a=[]\n",
        "    for j in range(col):\n",
        "      b=int(input())\n",
        "      a.append(b)\n",
        "    matrix.append(a)\n",
        "\n",
        "  for i in range(row):\n",
        "    for j in range(col):\n",
        "      print(matrix[i][j],end=' ')\n",
        "    print()\n",
        "  return matrix\n",
        "\n",
        "m=cmatrix()\n",
        "print(m)\n",
        "\n",
        "matrix=[]\n",
        "x=cmatrix()\n",
        "print(x)\n",
        "# #add\n",
        "# y=[]\n",
        "# for i in range(row):\n",
        "#   z=[]\n",
        "#   for j in range(col):\n",
        "#     c=m[i][j]+x[i][j]\n",
        "#     z.append(c)\n",
        "#   y.append(z)\n",
        "\n",
        "for i in range(row):\n",
        "    for j in range(col):\n",
        "      print(y[i][j],end=' ')\n",
        "    print()\n",
        "#multiply  \n",
        "p=[] #put all values \"0\" \n",
        "for i in range(row):\n",
        "    C=[]\n",
        "    for j in range(n):\n",
        "      C.append(0) \n",
        "    p.append(C) \n",
        "\n",
        "for i in range(len(m)):\n",
        "  for j in range(len(x[0])):\n",
        "    for k in range(len(x)):\n",
        "      p[i][j]=p[i][j]+m[i][k]*x[k][j]\n",
        "\n",
        "print(p)\n",
        "\n"
      ],
      "execution_count": null,
      "outputs": []
    },
    {
      "cell_type": "markdown",
      "metadata": {
        "id": "00paeFZRhUzD"
      },
      "source": [
        "***Transacton question***"
      ]
    },
    {
      "cell_type": "code",
      "metadata": {
        "id": "-_oiD4RnhTui"
      },
      "source": [
        "bal=0\n",
        "n=100\n",
        "for i in range(n):\n",
        "  x=input(\"Enter operation and value in same line \")\n",
        "  y=[]\n",
        "  y=x.split()\n",
        "  operation=y[0]\n",
        "  temp=y[1]\n",
        "  value=int(temp)\n",
        "  if (operation=='d'):\n",
        "    bal=bal+value\n",
        "  elif (operation=='w'):\n",
        "    if(bal>value):\n",
        "      bal=bal-value\n",
        "  else:\n",
        "    print(\"Insufficient balance\")\n",
        "  z=input(\"Do you want to continue with next transaction \")\n",
        "  if (z=='yes' or z== 'y'):\n",
        "    pass\n",
        "  elif(z=='no' or z=='n'):\n",
        "    break\n",
        "print(f\"Balance is {bal}\")"
      ],
      "execution_count": null,
      "outputs": []
    },
    {
      "cell_type": "markdown",
      "metadata": {
        "id": "363G_01PhrRH"
      },
      "source": [
        "***SPARSE MATRIX***"
      ]
    },
    {
      "cell_type": "code",
      "metadata": {
        "id": "J6ivdJaNhyw2"
      },
      "source": [
        ""
      ],
      "execution_count": null,
      "outputs": []
    },
    {
      "cell_type": "code",
      "metadata": {
        "id": "mPiCyAOwhoI3"
      },
      "source": [
        "row=int(input(\"enter no. of rows:\"))\n",
        "col=int(input(\"enter no. of col:\"))\n",
        "matrix=[]\n",
        "#matrix function\n",
        "def cmatrix():\n",
        "  for i in range(row):\n",
        "    a=[]\n",
        "    for j in range(col):\n",
        "      b=int(input())\n",
        "      a.append(b)\n",
        "    matrix.append(a)\n",
        "\n",
        "  for i in range(row):\n",
        "    for j in range(col):\n",
        "      print(matrix[i][j],end=' ')\n",
        "    print()\n",
        "  return matrix\n",
        "\n",
        "m=cmatrix()\n",
        "print(m)\n",
        "\n",
        "\n",
        "for i in range(row):\n",
        "  for j in range(col):\n",
        "    if m[i][j]==0:\n",
        "      continue\n",
        "    else :\n",
        "      print(i,'\\t',j,'\\t', m[i][j])\n",
        "\n",
        "matrix=[]\n",
        "x=cmatrix()\n",
        "print(x)\n",
        "\n",
        "\n",
        "for i in range(row):\n",
        "  for j in range(col):\n",
        "    if x[i][j]==0:\n",
        "      continue\n",
        "    else :\n",
        "      print(i,'\\t',j,'\\t', x[i][j])\n",
        "\n",
        "for i in range(row):\n",
        "  for j in range(col):\n",
        "    if m[i][j]!=0 and x[i][j]!=0:\n",
        "      print(i,'\\t',j,'\\t',m[i][j]+x[i][j])\n",
        "\n"
      ],
      "execution_count": null,
      "outputs": []
    },
    {
      "cell_type": "markdown",
      "metadata": {
        "id": "fIUPau2th8Wa"
      },
      "source": [
        "***MOCK PRACTICAL***"
      ]
    },
    {
      "cell_type": "code",
      "metadata": {
        "id": "XOTVRAAMhz3p"
      },
      "source": [
        "a=input(\"first and last name of the student:\")\n",
        "#To display name with the longest length\n",
        "c=[]\n",
        "c=a.split()\n",
        "x=0\n",
        "for i in range(len(c)):\n",
        "  if x<len(c[i]):\n",
        "    x=len(c[i])\n",
        "    y=c[i]\n",
        "print(f\"{x} for {y}\")\n",
        "\n",
        "#To determines the frequency of occurrence of particular character in the string\n",
        "b=input('enter the character:')\n",
        "count=0\n",
        "for i in a:\n",
        "  if i==b:\n",
        "    count=count+1\n",
        "\n",
        "    \n",
        "print(count)\n",
        "\n",
        "#To check given string is palindrome or not\n",
        "q=a\n",
        "p=input(\"another string\")\n",
        "r=\" \"\n",
        "for i in range(len(p)-1,-1,-1):\n",
        "  r=r+p[i]\n",
        "if(q==p):\n",
        "  print(\"the string is palindrome=\")\n",
        "else: \n",
        "  print(\"it is not a palingdrone=\")\n",
        "\n",
        "\n",
        "\n",
        "#To display index of first substring\n",
        "z=input(\"enter the substring\")\n",
        "e=0\n",
        "for i in range(len(a)-1):  # \"a\" is from top line\n",
        "  if (a[i]==z[e]):\n",
        "    e=e+1\n",
        "    if(e==len(z)):\n",
        "      break\n",
        "  if len(z)==0:\n",
        "    break\n",
        "\n",
        "if(e<len(z)):\n",
        "    print(\"not present\")\n",
        "else:\n",
        "   k=i-e+1\n",
        "   print(f'{z} is present at position {k}')\n",
        "\n",
        "\n",
        "#To count the occurrences of each word in string\n",
        "g=input(\" enter the word\")\n",
        "count=0\n",
        "for i in c:\n",
        "  if i==g:\n",
        "    count=count+1\n",
        "print(count)"
      ],
      "execution_count": null,
      "outputs": []
    }
  ]
}